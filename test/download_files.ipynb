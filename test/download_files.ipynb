{
 "cells": [
  {
   "cell_type": "markdown",
   "metadata": {},
   "source": [
    "# Donwload files\n",
    "\n",
    "This jupyter notebook has the objective to retrieve the files <br>\n",
    "in zip folders inside the data path for later use in the project"
   ]
  },
  {
   "cell_type": "code",
   "execution_count": 6,
   "metadata": {},
   "outputs": [],
   "source": [
    " #Import necessary modules\n",
    "import os\n",
    "import matplotlib.pyplot as plt\n",
    "plt.rcParams['figure.figsize'] = [20, 12]"
   ]
  },
  {
   "cell_type": "markdown",
   "metadata": {},
   "source": [
    "### Set the path to here\n",
    "\n",
    "Make sure the setup the paths properly!"
   ]
  },
  {
   "cell_type": "code",
   "execution_count": 7,
   "metadata": {},
   "outputs": [
    {
     "name": "stdout",
     "output_type": "stream",
     "text": [
      "D:\\Python_Projects\\Stanford2023-2024\\CS236-Final-Proj\\test\n"
     ]
    }
   ],
   "source": [
    "#Path to assign tests (copy path directly)\n",
    "test_path = r\"D:\\Python_Projects\\Stanford2023-2024\\CS236-Final-Proj\\test\"\n",
    "\n",
    "#Set the path to this working directory\n",
    "os.chdir(test_path)\n",
    "print(os.getcwd())\n",
    "\n",
    "import sys\n",
    "#Append the path the src folder\n",
    "sys.path.append(r'D:\\Python_Projects\\Stanford2023-2024\\CS236-Final-Proj\\src')"
   ]
  },
  {
   "cell_type": "markdown",
   "metadata": {},
   "source": [
    "### Import the necessary module for downloading\n",
    "\n",
    "Note for this: EVERYTIME There is a change inside the download <br>\n",
    "the changes inside the file would only be shown if the jupyter kernel is restarted. <br>\n"
   ]
  },
  {
   "cell_type": "code",
   "execution_count": null,
   "metadata": {},
   "outputs": [],
   "source": [
    "# Import the necessary modules\n",
    "from utils import CXRDownloader"
   ]
  },
  {
   "cell_type": "markdown",
   "metadata": {},
   "source": [
    "### Set the data path"
   ]
  },
  {
   "cell_type": "code",
   "execution_count": 4,
   "metadata": {},
   "outputs": [],
   "source": [
    "# Create the data path\n",
    "data_path = os.path.join(test_path, os.pardir, \"data\")"
   ]
  },
  {
   "cell_type": "markdown",
   "metadata": {},
   "source": [
    "### Execute the codes\n",
    "\n",
    "Let the codes finalize downloading for all."
   ]
  },
  {
   "cell_type": "code",
   "execution_count": 7,
   "metadata": {},
   "outputs": [
    {
     "name": "stdout",
     "output_type": "stream",
     "text": [
      "Already downloaded D:\\Python_Projects\\CS236-Final-Proj\\test\\..\\data\\Zip_files\\images_01.tar.gzPLEASE: Make sure the size and all images are there, erase and execute download again\n",
      "Already downloaded D:\\Python_Projects\\CS236-Final-Proj\\test\\..\\data\\Zip_files\\images_02.tar.gzPLEASE: Make sure the size and all images are there, erase and execute download again\n",
      "Already downloaded D:\\Python_Projects\\CS236-Final-Proj\\test\\..\\data\\Zip_files\\images_03.tar.gzPLEASE: Make sure the size and all images are there, erase and execute download again\n",
      "Already downloaded D:\\Python_Projects\\CS236-Final-Proj\\test\\..\\data\\Zip_files\\images_04.tar.gzPLEASE: Make sure the size and all images are there, erase and execute download again\n",
      "Already downloaded D:\\Python_Projects\\CS236-Final-Proj\\test\\..\\data\\Zip_files\\images_05.tar.gzPLEASE: Make sure the size and all images are there, erase and execute download again\n",
      "Already downloaded D:\\Python_Projects\\CS236-Final-Proj\\test\\..\\data\\Zip_files\\images_06.tar.gzPLEASE: Make sure the size and all images are there, erase and execute download again\n",
      "Already downloaded D:\\Python_Projects\\CS236-Final-Proj\\test\\..\\data\\Zip_files\\images_07.tar.gzPLEASE: Make sure the size and all images are there, erase and execute download again\n",
      "Already downloaded D:\\Python_Projects\\CS236-Final-Proj\\test\\..\\data\\Zip_files\\images_08.tar.gzPLEASE: Make sure the size and all images are there, erase and execute download again\n",
      "Already downloaded D:\\Python_Projects\\CS236-Final-Proj\\test\\..\\data\\Zip_files\\images_09.tar.gzPLEASE: Make sure the size and all images are there, erase and execute download again\n",
      "Already downloaded D:\\Python_Projects\\CS236-Final-Proj\\test\\..\\data\\Zip_files\\images_10.tar.gzPLEASE: Make sure the size and all images are there, erase and execute download again\n",
      "Already downloaded D:\\Python_Projects\\CS236-Final-Proj\\test\\..\\data\\Zip_files\\images_11.tar.gzPLEASE: Make sure the size and all images are there, erase and execute download again\n",
      "Already downloaded D:\\Python_Projects\\CS236-Final-Proj\\test\\..\\data\\Zip_files\\images_12.tar.gzPLEASE: Make sure the size and all images are there, erase and execute download again\n",
      "All downloads complete. Please check the checksums.\n"
     ]
    }
   ],
   "source": [
    "# Create a downloader compiler\n",
    "downloader_compiler = CXRDownloader()\n",
    "\n",
    "#Set the data path\n",
    "downloader_compiler.set_data_path(data_path)\n",
    "\n",
    "#Set the links\n",
    "downloader_compiler.set_default_links()\n",
    "\n",
    "#download the zip files\n",
    "downloader_compiler.download_files()"
   ]
  }
 ],
 "metadata": {
  "kernelspec": {
   "display_name": "venv",
   "language": "python",
   "name": "python3"
  },
  "language_info": {
   "codemirror_mode": {
    "name": "ipython",
    "version": 3
   },
   "file_extension": ".py",
   "mimetype": "text/x-python",
   "name": "python",
   "nbconvert_exporter": "python",
   "pygments_lexer": "ipython3",
   "version": "3.11.6"
  }
 },
 "nbformat": 4,
 "nbformat_minor": 2
}
