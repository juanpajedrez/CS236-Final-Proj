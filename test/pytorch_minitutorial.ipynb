{
 "cells": [
  {
   "cell_type": "markdown",
   "metadata": {},
   "source": [
    "# Mini tutorial to understand how a layer in pytorch operates\n",
    "\n",
    "This is a tutorial to finally understand how a layer in pytorch and dimensions work"
   ]
  },
  {
   "cell_type": "code",
   "execution_count": 1,
   "metadata": {},
   "outputs": [],
   "source": [
    "import torch"
   ]
  },
  {
   "cell_type": "markdown",
   "metadata": {},
   "source": [
    "### Dimensions of A matrix of NN and bias"
   ]
  },
  {
   "cell_type": "code",
   "execution_count": 5,
   "metadata": {},
   "outputs": [
    {
     "name": "stdout",
     "output_type": "stream",
     "text": [
      "torch.Size([4, 3])\n",
      "torch.Size([4])\n",
      "Parameter containing:\n",
      "tensor([[-0.3120, -0.0455,  0.0326],\n",
      "        [-0.3490,  0.4752, -0.1979],\n",
      "        [-0.0791,  0.5161, -0.0465],\n",
      "        [ 0.2355, -0.3889,  0.5403]], requires_grad=True)\n",
      "Parameter containing:\n",
      "tensor([ 0.1351, -0.0136,  0.2817, -0.2702], requires_grad=True)\n"
     ]
    }
   ],
   "source": [
    "layer = torch.nn.Linear(in_features=3, out_features=4, bias=True)\n",
    "print(layer.weight.shape)\n",
    "print(layer.bias.shape)\n",
    "\n",
    "print(layer.weight)\n",
    "print(layer.bias)"
   ]
  },
  {
   "cell_type": "markdown",
   "metadata": {},
   "source": [
    "### Apply the layer"
   ]
  },
  {
   "cell_type": "code",
   "execution_count": 31,
   "metadata": {},
   "outputs": [
    {
     "name": "stdout",
     "output_type": "stream",
     "text": [
      "torch.Size([3])\n",
      "torch.Size([4, 3])\n",
      "tensor([0.9273, 0.1604, 0.7790])\n",
      "torch.Size([3])\n",
      "tensor([-0.5268,  0.6297, -0.2435, -0.8854], grad_fn=<ViewBackward0>)\n",
      "torch.Size([4])\n",
      "tensor([-0.5268,  0.6297, -0.2435, -0.8854], grad_fn=<AddBackward0>)\n",
      "torch.Size([4])\n"
     ]
    }
   ],
   "source": [
    "X = torch.rand(3)\n",
    "\n",
    "print(X.shape)\n",
    "print(layer.weight.shape)\n",
    "\n",
    "# The generic way to apply any layer\n",
    "Y = layer(X)\n",
    "\n",
    "#What torch.nn.Linear does interlanny\n",
    "Y_manual = X @ layer.weight.transpose(0, 1) + layer.bias\n",
    "Y_manual = torch.matmul(layer.weight, X) + layer.bias\n",
    "\n",
    "print(X)\n",
    "print(X.shape)\n",
    "print(Y)\n",
    "print(Y.shape)\n",
    "print(Y_manual)\n",
    "print(Y.shape)\n"
   ]
  },
  {
   "cell_type": "markdown",
   "metadata": {},
   "source": [
    "### Broadcoasting"
   ]
  },
  {
   "cell_type": "code",
   "execution_count": 25,
   "metadata": {},
   "outputs": [
    {
     "name": "stdout",
     "output_type": "stream",
     "text": [
      "tensor([[11, 22, 33],\n",
      "        [41, 52, 63]])\n",
      "torch.Size([2, 3])\n"
     ]
    }
   ],
   "source": [
    "t1 = torch.tensor([1, 2, 3])                     # Shape [3] <--- line vector\n",
    "t2 = torch.tensor([[10, 20, 30], [40, 50, 60]])  # Shape [2, 3]  <--- 2D matrix\n",
    "\n",
    "s = t1 + t2\n",
    "print(s)         # Prints [[11, 22, 33], [41, 52, 63]]\n",
    "print(s.shape)   # Prints [2, 3]  <--- 2D matrix"
   ]
  },
  {
   "cell_type": "code",
   "execution_count": null,
   "metadata": {},
   "outputs": [],
   "source": [
    "layer = torch.nn.Linear(in_features=3, out_features=4, bias=True)\n",
    "\n",
    "X = torch.rand(3)                  # Shape    [3]\n",
    "Wt = layer.weight.transpose(0, 1)  # Shape [3, 4]\n",
    "B = layer.bias                     # Shape    [4]\n",
    "\n",
    "Y_manual =        X @ Wt     + B\n",
    "# Shapes:       [3] @ [3, 4] + [4]\n",
    "# Shapes:    [1, 3] @ [3, 4] + [4]     (after broadcasting X)\n",
    "# Shapes:         [1, 4]     + [4]     (after matrix multiply)\n",
    "# Shapes:         [1, 4]     + [1, 4]  (after broadcasting B)\n",
    "# Shapes:                [1, 4]        (after adding B)"
   ]
  },
  {
   "cell_type": "markdown",
   "metadata": {},
   "source": [
    "### Apply the layer to a lot of batches"
   ]
  },
  {
   "cell_type": "code",
   "execution_count": 30,
   "metadata": {},
   "outputs": [
    {
     "name": "stdout",
     "output_type": "stream",
     "text": [
      "tensor([[[0.1013, 0.4577, 0.4679],\n",
      "         [0.7341, 0.2850, 0.9302]],\n",
      "\n",
      "        [[0.3686, 0.1674, 0.7011],\n",
      "         [0.0015, 0.2222, 0.3001]],\n",
      "\n",
      "        [[0.3607, 0.6911, 0.8464],\n",
      "         [0.1292, 0.0443, 0.7671]],\n",
      "\n",
      "        [[0.1531, 0.4537, 0.7685],\n",
      "         [0.1254, 0.4405, 0.7585]],\n",
      "\n",
      "        [[0.3561, 0.7914, 0.4904],\n",
      "         [0.6081, 0.3517, 0.2927]],\n",
      "\n",
      "        [[0.6258, 0.3477, 0.8748],\n",
      "         [0.1450, 0.4207, 0.4621]],\n",
      "\n",
      "        [[0.5434, 0.5358, 0.7982],\n",
      "         [0.6219, 0.0922, 0.9663]],\n",
      "\n",
      "        [[0.0404, 0.7370, 0.0628],\n",
      "         [0.1872, 0.6405, 0.3090]],\n",
      "\n",
      "        [[0.8970, 0.1372, 0.4719],\n",
      "         [0.2629, 0.2618, 0.8036]],\n",
      "\n",
      "        [[0.1099, 0.8973, 0.4023],\n",
      "         [0.7942, 0.0454, 0.8940]]])\n",
      "torch.Size([10, 2, 3])\n",
      "torch.Size([10, 2, 4])\n",
      "torch.Size([10, 2, 4])\n",
      "True\n"
     ]
    }
   ],
   "source": [
    "X = torch.rand((10, 2, 3))  # Shape [10, 2, 3]\n",
    "\n",
    "# Like before, this has a [3, 4] weight tensor and a [4] bias tensor\n",
    "layer = torch.nn.Linear(in_features=3, out_features=4, bias=True)\n",
    "\n",
    "# These are all identical, and end up with shape [10, 2, 4]\n",
    "Y = layer(X)\n",
    "Y_manual = torch.matmul(X, layer.weight.transpose(0,1)) + layer.bias\n",
    "\n",
    "print(X)\n",
    "print(X.shape)\n",
    "#print(Y)\n",
    "print(Y.shape)\n",
    "#print(Y_manual)\n",
    "print(Y.shape)\n",
    "\n",
    "print((Y == Y_manual).all().item())  # y and y_manual are the exact same"
   ]
  },
  {
   "cell_type": "markdown",
   "metadata": {},
   "source": [
    "### Tensor two d multiplication with broadcasting, think it like first number as channlesof how many times it has to multiply"
   ]
  },
  {
   "cell_type": "code",
   "execution_count": 32,
   "metadata": {},
   "outputs": [],
   "source": [
    "A = torch.tensor([  # Shape [2, 2, 3]\n",
    "    [[1, 2, 3],\n",
    "     [4, 5, 6]],\n",
    "\n",
    "    [[7, 8, 9],\n",
    "     [10, 11, 12]]\n",
    "])\n",
    "\n",
    "B = torch.tensor([  # Shape [2, 3, 4]\n",
    "    [[2, 2, 2, 2],\n",
    "     [3, 3, 3, 3],\n",
    "     [4, 4, 4, 4]],\n",
    "\n",
    "    [[2, 2, 2, 2],\n",
    "     [3, 3, 3, 3],\n",
    "     [4, 4, 4, 4]],\n",
    "])\n",
    "\n",
    "C = A @ B           # Shape [2, 2, 4]\n",
    "# C corresponds to torch.tensor([\n",
    "#    [[ 20,  20,  20,  20]\n",
    "#     [ 47,  47,  47,  47]],\n",
    "#\n",
    "#    [[ 74,  74,  74,  74],\n",
    "#     [101, 101, 101, 101]]\n",
    "#])\n",
    "assert (C[0] == A[0] @ B[0]).all().item()\n",
    "assert (C[1] == A[1] @ B[1]).all().item()"
   ]
  },
  {
   "cell_type": "code",
   "execution_count": 34,
   "metadata": {},
   "outputs": [
    {
     "name": "stdout",
     "output_type": "stream",
     "text": [
      "tensor([[[0.7221, 1.0402, 0.4207, 0.6766],\n",
      "         [0.9258, 0.7155, 0.6025, 0.8515]],\n",
      "\n",
      "        [[1.4024, 0.6454, 1.0943, 1.1515],\n",
      "         [0.5777, 0.3426, 0.2367, 0.4478]]])\n",
      "torch.Size([2, 2, 4])\n",
      "tensor([[[0.9812, 0.7265, 1.4551, 0.4005],\n",
      "         [0.1903, 0.6345, 0.8130, 0.4009]],\n",
      "\n",
      "        [[0.9705, 0.6698, 1.4406, 0.3796],\n",
      "         [0.5633, 0.3919, 0.9306, 0.2486]]])\n",
      "torch.Size([2, 2, 4])\n",
      "tensor([[[0.4832, 0.9160, 1.1869, 0.5524],\n",
      "         [0.5347, 0.8007, 1.0764, 0.8938]],\n",
      "\n",
      "        [[0.5931, 0.9079, 1.1486, 0.4924],\n",
      "         [0.3466, 0.8789, 1.1557, 0.5042]]])\n",
      "torch.Size([2, 2, 4])\n",
      "tensor([[[[0.5672, 1.0865, 0.7029, 0.6031],\n",
      "          [0.9190, 1.4110, 0.9768, 0.8817]],\n",
      "\n",
      "         [[1.0862, 1.0324, 0.8355, 1.0679],\n",
      "          [1.1707, 1.2931, 0.9848, 1.1950]]]])\n",
      "torch.Size([1, 2, 2, 4])\n",
      "tensor([[[[0.8851, 0.7248, 0.1796, 1.0206],\n",
      "          [0.9677, 0.4719, 0.1712, 1.2509]],\n",
      "\n",
      "         [[0.5841, 0.6484, 0.1916, 0.8656],\n",
      "          [0.7559, 0.2884, 0.1176, 0.9676]]],\n",
      "\n",
      "\n",
      "        [[[0.8938, 0.4953, 1.0853, 1.2070],\n",
      "          [0.8813, 0.3960, 1.0591, 1.0748]],\n",
      "\n",
      "         [[0.5720, 0.5083, 0.8551, 1.1312],\n",
      "          [0.6757, 0.2558, 0.7837, 0.7446]]],\n",
      "\n",
      "\n",
      "        [[[0.8780, 1.1061, 0.9070, 0.5535],\n",
      "          [0.7397, 1.0679, 0.6567, 0.7215]],\n",
      "\n",
      "         [[0.6468, 0.8449, 0.9938, 0.3922],\n",
      "          [0.5309, 0.7923, 0.3934, 0.5781]]],\n",
      "\n",
      "\n",
      "        [[[0.8456, 0.6586, 0.8662, 0.7795],\n",
      "          [0.8224, 0.4472, 0.9727, 0.6483]],\n",
      "\n",
      "         [[0.7954, 0.5386, 0.9274, 0.8818],\n",
      "          [0.5868, 0.2877, 0.7055, 0.4127]]]])\n",
      "torch.Size([4, 2, 2, 4])\n",
      "tensor([[[[1.2022, 0.9697, 0.2894, 1.0323],\n",
      "          [1.9797, 1.4992, 0.9588, 1.4764]],\n",
      "\n",
      "         [[0.8333, 0.6575, 0.1244, 0.6706],\n",
      "          [1.4457, 1.0957, 0.6812, 1.0791]]]])\n",
      "torch.Size([1, 2, 2, 4])\n"
     ]
    }
   ],
   "source": [
    "A = torch.rand((2, 2, 3))  # Theses are the shapes of the tensors\n",
    "B = torch.rand((2, 3, 4))\n",
    "C = A @ B  # Ok\n",
    "print(C)\n",
    "print(C.shape)\n",
    "\n",
    "A = torch.rand((2, 2, 3))\n",
    "B = torch.rand(   (3, 4))\n",
    "C = A @ B  # Ok\n",
    "print(C)\n",
    "print(C.shape)\n",
    "\n",
    "A = torch.rand((2, 2, 3))\n",
    "B = torch.rand((1, 3, 4))\n",
    "C = A @ B  # Ok\n",
    "print(C)\n",
    "print(C.shape)\n",
    "\n",
    "A = torch.rand((1, 2, 2, 3))\n",
    "B = torch.rand(   (1, 3, 4))\n",
    "C = A @ B  # Ok\n",
    "print(C)\n",
    "print(C.shape)\n",
    "\n",
    "A = torch.rand((1, 2, 2, 3))\n",
    "B = torch.rand((4, 1, 3, 4))\n",
    "C = A @ B  # Ok\n",
    "print(C)\n",
    "print(C.shape)\n",
    "\n",
    "# A = torch.rand((2, 2, 2, 3))\n",
    "# B = torch.rand((4, 1, 3, 4))\n",
    "# C = A @ B  # Error\n",
    "# print(C)\n",
    "# print(C.shape)\n",
    "\n",
    "# A = torch.rand((1, 2, 2, 3))\n",
    "# B = torch.rand(   (4, 3, 4))\n",
    "# C = A @ B  # Error\n",
    "# print(C)\n",
    "# print(C.shape)\n",
    "\n",
    "A = torch.rand((1, 2, 2, 3))\n",
    "B = torch.rand(      (3, 4))\n",
    "C = A @ B  # Ok\n",
    "print(C)\n",
    "print(C.shape)"
   ]
  }
 ],
 "metadata": {
  "kernelspec": {
   "display_name": "venv",
   "language": "python",
   "name": "python3"
  },
  "language_info": {
   "codemirror_mode": {
    "name": "ipython",
    "version": 3
   },
   "file_extension": ".py",
   "mimetype": "text/x-python",
   "name": "python",
   "nbconvert_exporter": "python",
   "pygments_lexer": "ipython3",
   "version": "3.9.0"
  }
 },
 "nbformat": 4,
 "nbformat_minor": 2
}
